{
 "cells": [
  {
   "cell_type": "code",
   "execution_count": 1,
   "metadata": {},
   "outputs": [],
   "source": [
    "# 1. 导入库\n",
    "import os\n",
    "import cv2\n",
    "import numpy as np\n",
    "from PIL import Image"
   ]
  },
  {
   "cell_type": "code",
   "execution_count": 2,
   "metadata": {},
   "outputs": [],
   "source": [
    "# 2.获取人脸图片的信息以及ID信息\n",
    "def get_image_data():\n",
    "    faces = []\n",
    "    ids = []\n",
    "    paths = os.listdir('yalefaces_jpg/yalefaces')\n",
    "    # faces will contain the px of the images\n",
    "    # path will contain the path of the images\n",
    "    for path in paths:\n",
    "        # print(path)\n",
    "        # 读取图片并转灰度图片\n",
    "        \"\"\" write your code \"\"\"\n",
    "        \n",
    "        image_np = np.array(image, 'uint8')    # 将图片转换成了Numpy数组\n",
    "        # 图片名的前两位表示人的ID\n",
    "        \"\"\" write your code \"\"\"\n",
    "        \n",
    "        ids.append(id)\n",
    "        faces.append(image_np)\n",
    "\n",
    "    return np.array(ids), faces"
   ]
  },
  {
   "cell_type": "code",
   "execution_count": 4,
   "metadata": {},
   "outputs": [],
   "source": [
    "ids, faces = get_image_data()\n",
    "# print(ids, faces)"
   ]
  },
  {
   "cell_type": "code",
   "execution_count": 5,
   "metadata": {},
   "outputs": [],
   "source": [
    "# 模型训练LBPH\n",
    "\"\"\" write your code \"\"\"\n",
    "\n",
    "lbph_classifier.train(faces,ids)\n",
    "\n",
    "#Below line will store the histograms for each one of the iamges\n",
    "lbph_classifier.write('lbph_face_recognizer.yml')     # 训练结果保存到 lbph_face_recognizer.yml"
   ]
  },
  {
   "cell_type": "code",
   "execution_count": 6,
   "metadata": {},
   "outputs": [],
   "source": [
    "# 读取模型文件进行人脸识别\n",
    "lbph_face_classifier = cv2.face.LBPHFaceRecognizer_create()\n",
    "lbph_face_classifier.read(\"./lbph_face_recognizer.yml\")"
   ]
  },
  {
   "cell_type": "code",
   "execution_count": 7,
   "metadata": {},
   "outputs": [],
   "source": [
    "# 读取测试图片\n",
    "test_image1 = \"04surprised.jpg\"\n",
    "test_image = os.path.join('yalefaces_jpg/yalefaces', test_image1)\n",
    "image = Image.open(test_image).convert('L')\n",
    "image_np = np.array(image,'uint8')"
   ]
  },
  {
   "cell_type": "code",
   "execution_count": 9,
   "metadata": {},
   "outputs": [
    {
     "name": "stdout",
     "output_type": "stream",
     "text": [
      "True\n"
     ]
    }
   ],
   "source": [
    "# 加载模型进行预测\n",
    "predictions = lbph_face_classifier.predict(image_np)    # 得到预测结果\n",
    "# print(predictions[0])\n",
    "\n",
    "expected_output = int(test_image1[:2])                  # 实际真实结果\n",
    "# print(expected_output)\n",
    "\n",
    "# 显示图像信息\n",
    "# cv2.putText(image_np, 'Pred.' +str(predictions[0]),(10,30),cv2.FONT_HERSHEY_COMPLEX_SMALL,1,(0,255,0))\n",
    "# cv2.putText(image_np, 'Expec.' +str(expected_output),(10,50),cv2.FONT_HERSHEY_COMPLEX_SMALL,1,(0,255,0)\n",
    "# )\n",
    "# cv2.imshow('img', image_np)\n",
    "# cv2.waitKey(0)\n",
    "# cv2.destroyAllWindows()\n",
    "\n",
    "# 判断预测结果是否正确\n",
    "print(predictions[0] == expected_output)"
   ]
  },
  {
   "cell_type": "code",
   "execution_count": null,
   "metadata": {},
   "outputs": [],
   "source": []
  },
  {
   "cell_type": "code",
   "execution_count": null,
   "metadata": {},
   "outputs": [],
   "source": []
  },
  {
   "cell_type": "code",
   "execution_count": null,
   "metadata": {},
   "outputs": [],
   "source": []
  }
 ],
 "metadata": {
  "kernelspec": {
   "display_name": "Python 3 (ipykernel)",
   "language": "python",
   "name": "python3"
  },
  "language_info": {
   "codemirror_mode": {
    "name": "ipython",
    "version": 3
   },
   "file_extension": ".py",
   "mimetype": "text/x-python",
   "name": "python",
   "nbconvert_exporter": "python",
   "pygments_lexer": "ipython3",
   "version": "3.8.6"
  }
 },
 "nbformat": 4,
 "nbformat_minor": 5
}
